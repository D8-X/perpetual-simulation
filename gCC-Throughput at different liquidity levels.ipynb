{
 "cells": [
  {
   "cell_type": "code",
   "execution_count": 1,
   "id": "7d0f4a77",
   "metadata": {},
   "outputs": [],
   "source": [
    "import numpy as np\n",
    "import matplotlib.pyplot as plt\n",
    "from pricing_benchmark import calculate_perp_priceV4 \n",
    "from itertools import product"
   ]
  },
  {
   "cell_type": "code",
   "execution_count": 78,
   "id": "5115f392",
   "metadata": {},
   "outputs": [],
   "source": [
    "num_days = 1\n",
    "new_pos_per_day = 100\n",
    "\n",
    "minimal_spread = 0.0001 # param\n",
    "incentive_spread = 0.0001 # param\n",
    "log_ret_sigma = 0.08 # param > real typical vol\n",
    "trade_size_mu = 10 # gains equivalent\n",
    "trade_size_scale = 3 \n",
    "s_20 = 1_800"
   ]
  },
  {
   "cell_type": "code",
   "execution_count": 79,
   "id": "88179709",
   "metadata": {},
   "outputs": [],
   "source": [
    "trade_size_buckets = [[1,10], [10, 30], [30, 60], [60, 100], [100, 200], [200, 400], [400, 600], [600, 800], [800, 1_000]]\n",
    "M_amounts = [200_000, 300_000, 1_000_000]"
   ]
  },
  {
   "cell_type": "code",
   "execution_count": 80,
   "id": "a92fe0e2",
   "metadata": {},
   "outputs": [],
   "source": [
    "log_ret_mus = [0, -0.005, 0.005]\n",
    "prob_longs = [0.4, 0.5, 0.6]\n",
    "num_iter = 200"
   ]
  },
  {
   "cell_type": "code",
   "execution_count": 81,
   "id": "caaf0d00",
   "metadata": {},
   "outputs": [],
   "source": [
    "def generate_state(log_ret_mu, log_ret_sigma, trade_size_mu, trade_size_scale, prob_long, num_days):\n",
    "    # price path (daily increments), use 50% of \"implied vol\" (calibrated vol)\n",
    "    s_2 = np.exp(np.cumsum(np.random.normal(log_ret_mu - 0.5 * (log_ret_sigma * 0.5)**2, log_ret_sigma * 0.5, num_days)))[:,np.newaxis] * s_20\n",
    "    # trades\n",
    "    trade_sizes = np.random.gamma(trade_size_mu / trade_size_scale, trade_size_scale, (num_days, new_pos_per_day))\n",
    "    trade_dirs = np.where(np.random.uniform(size=(num_days, new_pos_per_day)) < prob_long, 1,-1)\n",
    "    trade_amounts = trade_sizes * trade_dirs\n",
    "    aggregated_trade_amounts = np.sum(trade_amounts, axis=-1)\n",
    "    # aggregate\n",
    "    L1 = np.sum(s_2 * aggregated_trade_amounts)\n",
    "    K2 = np.sum(trade_amounts)\n",
    "    \n",
    "    volume = np.sum(trade_sizes * s_2)\n",
    "    res = (K2, L1, s_2[-1,0], np.mean(trade_sizes), volume)\n",
    "    # print(res)\n",
    "    return res"
   ]
  },
  {
   "cell_type": "code",
   "execution_count": 82,
   "id": "3e75b607",
   "metadata": {},
   "outputs": [
    {
     "name": "stdout",
     "output_type": "stream",
     "text": [
      "[-4.22881406e+00 -7.86621333e+03  1.79788388e+03  1.00009250e+01\n",
      "  1.79797010e+06]\n",
      "[1.98574199e+02 3.56654670e+05 7.13582699e+01 5.57620082e-01\n",
      " 1.22057276e+05]\n"
     ]
    }
   ],
   "source": [
    "grid = product(log_ret_mus, prob_longs, range(num_iter))\n",
    "states = [generate_state(log_ret_mu, log_ret_sigma, trade_size_mu, trade_size_scale, prob_long, num_days) for log_ret_mu, prob_long, _ in grid]\n",
    "print(np.mean(np.array(states), axis=0))\n",
    "print(np.std(np.array(states), axis=0))"
   ]
  },
  {
   "cell_type": "code",
   "execution_count": 83,
   "id": "1a41369d",
   "metadata": {},
   "outputs": [],
   "source": [
    "def get_slippage(k, M):\n",
    "    grid = product(log_ret_mus, prob_longs, range(num_iter))\n",
    "    states = [generate_state(log_ret_mu, log_ret_sigma, trade_size_mu, trade_size_scale, prob_long, num_days) for log_ret_mu, prob_long, _ in grid]\n",
    "    prices = [calculate_perp_priceV4(K2, k, L1, s2, 1, log_ret_sigma, 1, 0, 0, M, 0, 0, minSpread=minimal_spread, incentiveSpread=incentive_spread, k_bar=pos_size_ema)\n",
    "                 for K2, L1, s2, pos_size_ema, vol in states]\n",
    "    slippages = [calculate_perp_priceV4(K2, k, L1, s2, 1, log_ret_sigma, 1, 0, 0, M, 0, 0, minSpread=minimal_spread, incentiveSpread=incentive_spread, k_bar=pos_size_ema) / s2 - 1\n",
    "                 for K2, L1, s2, pos_size_ema, vol in states]\n",
    "    volumes = [state[-1] for state in states]\n",
    "    print(states[0], states[1], states[3])\n",
    "    return np.array(slippages), np.array(volumes), np.array(prices)"
   ]
  },
  {
   "cell_type": "code",
   "execution_count": 87,
   "id": "264e9cc3",
   "metadata": {},
   "outputs": [
    {
     "name": "stdout",
     "output_type": "stream",
     "text": [
      "(-277.3572442451644, -483357.56340373744, 1742.7255766086398, 9.978661774397102, 1739006.9094568782) (-291.9669618805456, -515484.86893715407, 1765.5589030243011, 10.02550786175723, 1770062.4662665601) (-247.42768124986688, -447538.5530424204, 1808.7650936293985, 9.984985263050907, 1806049.2804210442)\n"
     ]
    },
    {
     "data": {
      "text/plain": [
       "array([1743.07412172, 1765.9120148 , 1771.09735242, ..., 1790.39067338,\n",
       "       1767.08478363, 1896.23824066])"
      ]
     },
     "execution_count": 87,
     "metadata": {},
     "output_type": "execute_result"
    }
   ],
   "source": [
    "slippages, volumes, prices = get_slippage(100, M_amounts[1])\n",
    "prices"
   ]
  },
  {
   "cell_type": "code",
   "execution_count": 92,
   "id": "98d7c03d",
   "metadata": {},
   "outputs": [
    {
     "data": {
      "text/plain": [
       "array([2.        , 2.        , 2.        , 2.        , 2.00000089,\n",
       "       2.00987973])"
      ]
     },
     "execution_count": 92,
     "metadata": {},
     "output_type": "execute_result"
    },
    {
     "data": {
      "image/png": "[encoded data removed]",
      "text/plain": [
       "<Figure size 640x480 with 1 Axes>"
      ]
     },
     "metadata": {},
     "output_type": "display_data"
    }
   ],
   "source": [
    "plt.hist(np.abs(slippages), 2)\n",
    "plt.xlabel('basis points')\n",
    "np.quantile(np.abs(slippages), [0.1, 0.25, 0.5, 0.6, 0.75, 0.9]) * 1e4\n"
   ]
  },
  {
   "cell_type": "code",
   "execution_count": 57,
   "id": "59d09612",
   "metadata": {},
   "outputs": [
    {
     "data": {
      "text/plain": [
       "Text(0.5, 0, 'mmUSD')"
      ]
     },
     "execution_count": 57,
     "metadata": {},
     "output_type": "execute_result"
    },
    {
     "data": {
      "image/png": "[encoded data removed]",
      "text/plain": [
       "<Figure size 640x480 with 1 Axes>"
      ]
     },
     "metadata": {},
     "output_type": "display_data"
    }
   ],
   "source": [
    "plt.hist(volumes / 1e6, 20)\n",
    "plt.xlabel('mmUSD')"
   ]
  },
  {
   "cell_type": "code",
   "execution_count": 35,
   "id": "cb2f4937",
   "metadata": {},
   "outputs": [
    {
     "data": {
      "text/plain": [
       "array([0.0002, 0.0002, 0.0002, ..., 0.0002, 0.0002, 0.0002])"
      ]
     },
     "execution_count": 35,
     "metadata": {},
     "output_type": "execute_result"
    }
   ],
   "source": [
    "slippages"
   ]
  },
  {
   "cell_type": "code",
   "execution_count": null,
   "id": "901bca33",
   "metadata": {},
   "outputs": [],
   "source": []
  }
 ],
 "metadata": {
  "kernelspec": {
   "display_name": "Python 3 (ipykernel)",
   "language": "python",
   "name": "python3"
  },
  "language_info": {
   "codemirror_mode": {
    "name": "ipython",
    "version": 3
   },
   "file_extension": ".py",
   "mimetype": "text/x-python",
   "name": "python",
   "nbconvert_exporter": "python",
   "pygments_lexer": "ipython3",
   "version": "3.10.10"
  }
 },
 "nbformat": 4,
 "nbformat_minor": 5
}
